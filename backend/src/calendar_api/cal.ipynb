{
 "cells": [
  {
   "cell_type": "code",
   "execution_count": 42,
   "metadata": {},
   "outputs": [],
   "source": [
    "import os\n",
    "import json\n",
    "import openai\n",
    "from dotenv import load_dotenv\n",
    "\n",
    "load_dotenv()\n",
    "\n",
    "MODEL = \"llama3p3-70b-instruct\"\n",
    "MODEL = \"llama3p1-8b-instruct\"\n",
    "MODEL = \"gpt-4o-mini\"\n",
    "\n",
    "client = openai.OpenAI(\n",
    "    api_key = \"fu.so@northeastern.edu:03712\",\n",
    "    base_url = \"https://nerc.guha-anderson.com/v1\")"
   ]
  },
  {
   "cell_type": "code",
   "execution_count": null,
   "metadata": {},
   "outputs": [
    {
     "ename": "InternalServerError",
     "evalue": "Internal Server Error",
     "output_type": "error",
     "traceback": [
      "\u001b[0;31m---------------------------------------------------------------------------\u001b[0m",
      "\u001b[0;31mInternalServerError\u001b[0m                       Traceback (most recent call last)",
      "Cell \u001b[0;32mIn[41], line 1\u001b[0m\n\u001b[0;32m----> 1\u001b[0m models \u001b[38;5;241m=\u001b[39m \u001b[43mclient\u001b[49m\u001b[38;5;241;43m.\u001b[39;49m\u001b[43mmodels\u001b[49m\u001b[38;5;241;43m.\u001b[39;49m\u001b[43mlist\u001b[49m\u001b[43m(\u001b[49m\u001b[43m)\u001b[49m\n",
      "File \u001b[0;32m~/anaconda3/envs/sklearn-env/lib/python3.12/site-packages/openai/resources/models.py:91\u001b[0m, in \u001b[0;36mModels.list\u001b[0;34m(self, extra_headers, extra_query, extra_body, timeout)\u001b[0m\n\u001b[1;32m     77\u001b[0m \u001b[38;5;28;01mdef\u001b[39;00m \u001b[38;5;21mlist\u001b[39m(\n\u001b[1;32m     78\u001b[0m     \u001b[38;5;28mself\u001b[39m,\n\u001b[1;32m     79\u001b[0m     \u001b[38;5;241m*\u001b[39m,\n\u001b[0;32m   (...)\u001b[0m\n\u001b[1;32m     85\u001b[0m     timeout: \u001b[38;5;28mfloat\u001b[39m \u001b[38;5;241m|\u001b[39m httpx\u001b[38;5;241m.\u001b[39mTimeout \u001b[38;5;241m|\u001b[39m \u001b[38;5;28;01mNone\u001b[39;00m \u001b[38;5;241m|\u001b[39m NotGiven \u001b[38;5;241m=\u001b[39m NOT_GIVEN,\n\u001b[1;32m     86\u001b[0m ) \u001b[38;5;241m-\u001b[39m\u001b[38;5;241m>\u001b[39m SyncPage[Model]:\n\u001b[1;32m     87\u001b[0m \u001b[38;5;250m    \u001b[39m\u001b[38;5;124;03m\"\"\"\u001b[39;00m\n\u001b[1;32m     88\u001b[0m \u001b[38;5;124;03m    Lists the currently available models, and provides basic information about each\u001b[39;00m\n\u001b[1;32m     89\u001b[0m \u001b[38;5;124;03m    one such as the owner and availability.\u001b[39;00m\n\u001b[1;32m     90\u001b[0m \u001b[38;5;124;03m    \"\"\"\u001b[39;00m\n\u001b[0;32m---> 91\u001b[0m     \u001b[38;5;28;01mreturn\u001b[39;00m \u001b[38;5;28;43mself\u001b[39;49m\u001b[38;5;241;43m.\u001b[39;49m\u001b[43m_get_api_list\u001b[49m\u001b[43m(\u001b[49m\n\u001b[1;32m     92\u001b[0m \u001b[43m        \u001b[49m\u001b[38;5;124;43m\"\u001b[39;49m\u001b[38;5;124;43m/models\u001b[39;49m\u001b[38;5;124;43m\"\u001b[39;49m\u001b[43m,\u001b[49m\n\u001b[1;32m     93\u001b[0m \u001b[43m        \u001b[49m\u001b[43mpage\u001b[49m\u001b[38;5;241;43m=\u001b[39;49m\u001b[43mSyncPage\u001b[49m\u001b[43m[\u001b[49m\u001b[43mModel\u001b[49m\u001b[43m]\u001b[49m\u001b[43m,\u001b[49m\n\u001b[1;32m     94\u001b[0m \u001b[43m        \u001b[49m\u001b[43moptions\u001b[49m\u001b[38;5;241;43m=\u001b[39;49m\u001b[43mmake_request_options\u001b[49m\u001b[43m(\u001b[49m\n\u001b[1;32m     95\u001b[0m \u001b[43m            \u001b[49m\u001b[43mextra_headers\u001b[49m\u001b[38;5;241;43m=\u001b[39;49m\u001b[43mextra_headers\u001b[49m\u001b[43m,\u001b[49m\u001b[43m \u001b[49m\u001b[43mextra_query\u001b[49m\u001b[38;5;241;43m=\u001b[39;49m\u001b[43mextra_query\u001b[49m\u001b[43m,\u001b[49m\u001b[43m \u001b[49m\u001b[43mextra_body\u001b[49m\u001b[38;5;241;43m=\u001b[39;49m\u001b[43mextra_body\u001b[49m\u001b[43m,\u001b[49m\u001b[43m \u001b[49m\u001b[43mtimeout\u001b[49m\u001b[38;5;241;43m=\u001b[39;49m\u001b[43mtimeout\u001b[49m\n\u001b[1;32m     96\u001b[0m \u001b[43m        \u001b[49m\u001b[43m)\u001b[49m\u001b[43m,\u001b[49m\n\u001b[1;32m     97\u001b[0m \u001b[43m        \u001b[49m\u001b[43mmodel\u001b[49m\u001b[38;5;241;43m=\u001b[39;49m\u001b[43mModel\u001b[49m\u001b[43m,\u001b[49m\n\u001b[1;32m     98\u001b[0m \u001b[43m    \u001b[49m\u001b[43m)\u001b[49m\n",
      "File \u001b[0;32m~/anaconda3/envs/sklearn-env/lib/python3.12/site-packages/openai/_base_client.py:1332\u001b[0m, in \u001b[0;36mSyncAPIClient.get_api_list\u001b[0;34m(self, path, model, page, body, options, method)\u001b[0m\n\u001b[1;32m   1321\u001b[0m \u001b[38;5;28;01mdef\u001b[39;00m \u001b[38;5;21mget_api_list\u001b[39m(\n\u001b[1;32m   1322\u001b[0m     \u001b[38;5;28mself\u001b[39m,\n\u001b[1;32m   1323\u001b[0m     path: \u001b[38;5;28mstr\u001b[39m,\n\u001b[0;32m   (...)\u001b[0m\n\u001b[1;32m   1329\u001b[0m     method: \u001b[38;5;28mstr\u001b[39m \u001b[38;5;241m=\u001b[39m \u001b[38;5;124m\"\u001b[39m\u001b[38;5;124mget\u001b[39m\u001b[38;5;124m\"\u001b[39m,\n\u001b[1;32m   1330\u001b[0m ) \u001b[38;5;241m-\u001b[39m\u001b[38;5;241m>\u001b[39m SyncPageT:\n\u001b[1;32m   1331\u001b[0m     opts \u001b[38;5;241m=\u001b[39m FinalRequestOptions\u001b[38;5;241m.\u001b[39mconstruct(method\u001b[38;5;241m=\u001b[39mmethod, url\u001b[38;5;241m=\u001b[39mpath, json_data\u001b[38;5;241m=\u001b[39mbody, \u001b[38;5;241m*\u001b[39m\u001b[38;5;241m*\u001b[39moptions)\n\u001b[0;32m-> 1332\u001b[0m     \u001b[38;5;28;01mreturn\u001b[39;00m \u001b[38;5;28;43mself\u001b[39;49m\u001b[38;5;241;43m.\u001b[39;49m\u001b[43m_request_api_list\u001b[49m\u001b[43m(\u001b[49m\u001b[43mmodel\u001b[49m\u001b[43m,\u001b[49m\u001b[43m \u001b[49m\u001b[43mpage\u001b[49m\u001b[43m,\u001b[49m\u001b[43m \u001b[49m\u001b[43mopts\u001b[49m\u001b[43m)\u001b[49m\n",
      "File \u001b[0;32m~/anaconda3/envs/sklearn-env/lib/python3.12/site-packages/openai/_base_client.py:1183\u001b[0m, in \u001b[0;36mSyncAPIClient._request_api_list\u001b[0;34m(self, model, page, options)\u001b[0m\n\u001b[1;32m   1179\u001b[0m     \u001b[38;5;28;01mreturn\u001b[39;00m resp\n\u001b[1;32m   1181\u001b[0m options\u001b[38;5;241m.\u001b[39mpost_parser \u001b[38;5;241m=\u001b[39m _parser\n\u001b[0;32m-> 1183\u001b[0m \u001b[38;5;28;01mreturn\u001b[39;00m \u001b[38;5;28;43mself\u001b[39;49m\u001b[38;5;241;43m.\u001b[39;49m\u001b[43mrequest\u001b[49m\u001b[43m(\u001b[49m\u001b[43mpage\u001b[49m\u001b[43m,\u001b[49m\u001b[43m \u001b[49m\u001b[43moptions\u001b[49m\u001b[43m,\u001b[49m\u001b[43m \u001b[49m\u001b[43mstream\u001b[49m\u001b[38;5;241;43m=\u001b[39;49m\u001b[38;5;28;43;01mFalse\u001b[39;49;00m\u001b[43m)\u001b[49m\n",
      "File \u001b[0;32m~/anaconda3/envs/sklearn-env/lib/python3.12/site-packages/openai/_base_client.py:960\u001b[0m, in \u001b[0;36mSyncAPIClient.request\u001b[0;34m(self, cast_to, options, remaining_retries, stream, stream_cls)\u001b[0m\n\u001b[1;32m    957\u001b[0m \u001b[38;5;28;01melse\u001b[39;00m:\n\u001b[1;32m    958\u001b[0m     retries_taken \u001b[38;5;241m=\u001b[39m \u001b[38;5;241m0\u001b[39m\n\u001b[0;32m--> 960\u001b[0m \u001b[38;5;28;01mreturn\u001b[39;00m \u001b[38;5;28;43mself\u001b[39;49m\u001b[38;5;241;43m.\u001b[39;49m\u001b[43m_request\u001b[49m\u001b[43m(\u001b[49m\n\u001b[1;32m    961\u001b[0m \u001b[43m    \u001b[49m\u001b[43mcast_to\u001b[49m\u001b[38;5;241;43m=\u001b[39;49m\u001b[43mcast_to\u001b[49m\u001b[43m,\u001b[49m\n\u001b[1;32m    962\u001b[0m \u001b[43m    \u001b[49m\u001b[43moptions\u001b[49m\u001b[38;5;241;43m=\u001b[39;49m\u001b[43moptions\u001b[49m\u001b[43m,\u001b[49m\n\u001b[1;32m    963\u001b[0m \u001b[43m    \u001b[49m\u001b[43mstream\u001b[49m\u001b[38;5;241;43m=\u001b[39;49m\u001b[43mstream\u001b[49m\u001b[43m,\u001b[49m\n\u001b[1;32m    964\u001b[0m \u001b[43m    \u001b[49m\u001b[43mstream_cls\u001b[49m\u001b[38;5;241;43m=\u001b[39;49m\u001b[43mstream_cls\u001b[49m\u001b[43m,\u001b[49m\n\u001b[1;32m    965\u001b[0m \u001b[43m    \u001b[49m\u001b[43mretries_taken\u001b[49m\u001b[38;5;241;43m=\u001b[39;49m\u001b[43mretries_taken\u001b[49m\u001b[43m,\u001b[49m\n\u001b[1;32m    966\u001b[0m \u001b[43m\u001b[49m\u001b[43m)\u001b[49m\n",
      "File \u001b[0;32m~/anaconda3/envs/sklearn-env/lib/python3.12/site-packages/openai/_base_client.py:1049\u001b[0m, in \u001b[0;36mSyncAPIClient._request\u001b[0;34m(self, cast_to, options, retries_taken, stream, stream_cls)\u001b[0m\n\u001b[1;32m   1047\u001b[0m \u001b[38;5;28;01mif\u001b[39;00m remaining_retries \u001b[38;5;241m>\u001b[39m \u001b[38;5;241m0\u001b[39m \u001b[38;5;129;01mand\u001b[39;00m \u001b[38;5;28mself\u001b[39m\u001b[38;5;241m.\u001b[39m_should_retry(err\u001b[38;5;241m.\u001b[39mresponse):\n\u001b[1;32m   1048\u001b[0m     err\u001b[38;5;241m.\u001b[39mresponse\u001b[38;5;241m.\u001b[39mclose()\n\u001b[0;32m-> 1049\u001b[0m     \u001b[38;5;28;01mreturn\u001b[39;00m \u001b[38;5;28;43mself\u001b[39;49m\u001b[38;5;241;43m.\u001b[39;49m\u001b[43m_retry_request\u001b[49m\u001b[43m(\u001b[49m\n\u001b[1;32m   1050\u001b[0m \u001b[43m        \u001b[49m\u001b[43minput_options\u001b[49m\u001b[43m,\u001b[49m\n\u001b[1;32m   1051\u001b[0m \u001b[43m        \u001b[49m\u001b[43mcast_to\u001b[49m\u001b[43m,\u001b[49m\n\u001b[1;32m   1052\u001b[0m \u001b[43m        \u001b[49m\u001b[43mretries_taken\u001b[49m\u001b[38;5;241;43m=\u001b[39;49m\u001b[43mretries_taken\u001b[49m\u001b[43m,\u001b[49m\n\u001b[1;32m   1053\u001b[0m \u001b[43m        \u001b[49m\u001b[43mresponse_headers\u001b[49m\u001b[38;5;241;43m=\u001b[39;49m\u001b[43merr\u001b[49m\u001b[38;5;241;43m.\u001b[39;49m\u001b[43mresponse\u001b[49m\u001b[38;5;241;43m.\u001b[39;49m\u001b[43mheaders\u001b[49m\u001b[43m,\u001b[49m\n\u001b[1;32m   1054\u001b[0m \u001b[43m        \u001b[49m\u001b[43mstream\u001b[49m\u001b[38;5;241;43m=\u001b[39;49m\u001b[43mstream\u001b[49m\u001b[43m,\u001b[49m\n\u001b[1;32m   1055\u001b[0m \u001b[43m        \u001b[49m\u001b[43mstream_cls\u001b[49m\u001b[38;5;241;43m=\u001b[39;49m\u001b[43mstream_cls\u001b[49m\u001b[43m,\u001b[49m\n\u001b[1;32m   1056\u001b[0m \u001b[43m    \u001b[49m\u001b[43m)\u001b[49m\n\u001b[1;32m   1058\u001b[0m \u001b[38;5;66;03m# If the response is streamed then we need to explicitly read the response\u001b[39;00m\n\u001b[1;32m   1059\u001b[0m \u001b[38;5;66;03m# to completion before attempting to access the response text.\u001b[39;00m\n\u001b[1;32m   1060\u001b[0m \u001b[38;5;28;01mif\u001b[39;00m \u001b[38;5;129;01mnot\u001b[39;00m err\u001b[38;5;241m.\u001b[39mresponse\u001b[38;5;241m.\u001b[39mis_closed:\n",
      "File \u001b[0;32m~/anaconda3/envs/sklearn-env/lib/python3.12/site-packages/openai/_base_client.py:1098\u001b[0m, in \u001b[0;36mSyncAPIClient._retry_request\u001b[0;34m(self, options, cast_to, retries_taken, response_headers, stream, stream_cls)\u001b[0m\n\u001b[1;32m   1094\u001b[0m \u001b[38;5;66;03m# In a synchronous context we are blocking the entire thread. Up to the library user to run the client in a\u001b[39;00m\n\u001b[1;32m   1095\u001b[0m \u001b[38;5;66;03m# different thread if necessary.\u001b[39;00m\n\u001b[1;32m   1096\u001b[0m time\u001b[38;5;241m.\u001b[39msleep(timeout)\n\u001b[0;32m-> 1098\u001b[0m \u001b[38;5;28;01mreturn\u001b[39;00m \u001b[38;5;28;43mself\u001b[39;49m\u001b[38;5;241;43m.\u001b[39;49m\u001b[43m_request\u001b[49m\u001b[43m(\u001b[49m\n\u001b[1;32m   1099\u001b[0m \u001b[43m    \u001b[49m\u001b[43moptions\u001b[49m\u001b[38;5;241;43m=\u001b[39;49m\u001b[43moptions\u001b[49m\u001b[43m,\u001b[49m\n\u001b[1;32m   1100\u001b[0m \u001b[43m    \u001b[49m\u001b[43mcast_to\u001b[49m\u001b[38;5;241;43m=\u001b[39;49m\u001b[43mcast_to\u001b[49m\u001b[43m,\u001b[49m\n\u001b[1;32m   1101\u001b[0m \u001b[43m    \u001b[49m\u001b[43mretries_taken\u001b[49m\u001b[38;5;241;43m=\u001b[39;49m\u001b[43mretries_taken\u001b[49m\u001b[43m \u001b[49m\u001b[38;5;241;43m+\u001b[39;49m\u001b[43m \u001b[49m\u001b[38;5;241;43m1\u001b[39;49m\u001b[43m,\u001b[49m\n\u001b[1;32m   1102\u001b[0m \u001b[43m    \u001b[49m\u001b[43mstream\u001b[49m\u001b[38;5;241;43m=\u001b[39;49m\u001b[43mstream\u001b[49m\u001b[43m,\u001b[49m\n\u001b[1;32m   1103\u001b[0m \u001b[43m    \u001b[49m\u001b[43mstream_cls\u001b[49m\u001b[38;5;241;43m=\u001b[39;49m\u001b[43mstream_cls\u001b[49m\u001b[43m,\u001b[49m\n\u001b[1;32m   1104\u001b[0m \u001b[43m\u001b[49m\u001b[43m)\u001b[49m\n",
      "File \u001b[0;32m~/anaconda3/envs/sklearn-env/lib/python3.12/site-packages/openai/_base_client.py:1049\u001b[0m, in \u001b[0;36mSyncAPIClient._request\u001b[0;34m(self, cast_to, options, retries_taken, stream, stream_cls)\u001b[0m\n\u001b[1;32m   1047\u001b[0m \u001b[38;5;28;01mif\u001b[39;00m remaining_retries \u001b[38;5;241m>\u001b[39m \u001b[38;5;241m0\u001b[39m \u001b[38;5;129;01mand\u001b[39;00m \u001b[38;5;28mself\u001b[39m\u001b[38;5;241m.\u001b[39m_should_retry(err\u001b[38;5;241m.\u001b[39mresponse):\n\u001b[1;32m   1048\u001b[0m     err\u001b[38;5;241m.\u001b[39mresponse\u001b[38;5;241m.\u001b[39mclose()\n\u001b[0;32m-> 1049\u001b[0m     \u001b[38;5;28;01mreturn\u001b[39;00m \u001b[38;5;28;43mself\u001b[39;49m\u001b[38;5;241;43m.\u001b[39;49m\u001b[43m_retry_request\u001b[49m\u001b[43m(\u001b[49m\n\u001b[1;32m   1050\u001b[0m \u001b[43m        \u001b[49m\u001b[43minput_options\u001b[49m\u001b[43m,\u001b[49m\n\u001b[1;32m   1051\u001b[0m \u001b[43m        \u001b[49m\u001b[43mcast_to\u001b[49m\u001b[43m,\u001b[49m\n\u001b[1;32m   1052\u001b[0m \u001b[43m        \u001b[49m\u001b[43mretries_taken\u001b[49m\u001b[38;5;241;43m=\u001b[39;49m\u001b[43mretries_taken\u001b[49m\u001b[43m,\u001b[49m\n\u001b[1;32m   1053\u001b[0m \u001b[43m        \u001b[49m\u001b[43mresponse_headers\u001b[49m\u001b[38;5;241;43m=\u001b[39;49m\u001b[43merr\u001b[49m\u001b[38;5;241;43m.\u001b[39;49m\u001b[43mresponse\u001b[49m\u001b[38;5;241;43m.\u001b[39;49m\u001b[43mheaders\u001b[49m\u001b[43m,\u001b[49m\n\u001b[1;32m   1054\u001b[0m \u001b[43m        \u001b[49m\u001b[43mstream\u001b[49m\u001b[38;5;241;43m=\u001b[39;49m\u001b[43mstream\u001b[49m\u001b[43m,\u001b[49m\n\u001b[1;32m   1055\u001b[0m \u001b[43m        \u001b[49m\u001b[43mstream_cls\u001b[49m\u001b[38;5;241;43m=\u001b[39;49m\u001b[43mstream_cls\u001b[49m\u001b[43m,\u001b[49m\n\u001b[1;32m   1056\u001b[0m \u001b[43m    \u001b[49m\u001b[43m)\u001b[49m\n\u001b[1;32m   1058\u001b[0m \u001b[38;5;66;03m# If the response is streamed then we need to explicitly read the response\u001b[39;00m\n\u001b[1;32m   1059\u001b[0m \u001b[38;5;66;03m# to completion before attempting to access the response text.\u001b[39;00m\n\u001b[1;32m   1060\u001b[0m \u001b[38;5;28;01mif\u001b[39;00m \u001b[38;5;129;01mnot\u001b[39;00m err\u001b[38;5;241m.\u001b[39mresponse\u001b[38;5;241m.\u001b[39mis_closed:\n",
      "File \u001b[0;32m~/anaconda3/envs/sklearn-env/lib/python3.12/site-packages/openai/_base_client.py:1098\u001b[0m, in \u001b[0;36mSyncAPIClient._retry_request\u001b[0;34m(self, options, cast_to, retries_taken, response_headers, stream, stream_cls)\u001b[0m\n\u001b[1;32m   1094\u001b[0m \u001b[38;5;66;03m# In a synchronous context we are blocking the entire thread. Up to the library user to run the client in a\u001b[39;00m\n\u001b[1;32m   1095\u001b[0m \u001b[38;5;66;03m# different thread if necessary.\u001b[39;00m\n\u001b[1;32m   1096\u001b[0m time\u001b[38;5;241m.\u001b[39msleep(timeout)\n\u001b[0;32m-> 1098\u001b[0m \u001b[38;5;28;01mreturn\u001b[39;00m \u001b[38;5;28;43mself\u001b[39;49m\u001b[38;5;241;43m.\u001b[39;49m\u001b[43m_request\u001b[49m\u001b[43m(\u001b[49m\n\u001b[1;32m   1099\u001b[0m \u001b[43m    \u001b[49m\u001b[43moptions\u001b[49m\u001b[38;5;241;43m=\u001b[39;49m\u001b[43moptions\u001b[49m\u001b[43m,\u001b[49m\n\u001b[1;32m   1100\u001b[0m \u001b[43m    \u001b[49m\u001b[43mcast_to\u001b[49m\u001b[38;5;241;43m=\u001b[39;49m\u001b[43mcast_to\u001b[49m\u001b[43m,\u001b[49m\n\u001b[1;32m   1101\u001b[0m \u001b[43m    \u001b[49m\u001b[43mretries_taken\u001b[49m\u001b[38;5;241;43m=\u001b[39;49m\u001b[43mretries_taken\u001b[49m\u001b[43m \u001b[49m\u001b[38;5;241;43m+\u001b[39;49m\u001b[43m \u001b[49m\u001b[38;5;241;43m1\u001b[39;49m\u001b[43m,\u001b[49m\n\u001b[1;32m   1102\u001b[0m \u001b[43m    \u001b[49m\u001b[43mstream\u001b[49m\u001b[38;5;241;43m=\u001b[39;49m\u001b[43mstream\u001b[49m\u001b[43m,\u001b[49m\n\u001b[1;32m   1103\u001b[0m \u001b[43m    \u001b[49m\u001b[43mstream_cls\u001b[49m\u001b[38;5;241;43m=\u001b[39;49m\u001b[43mstream_cls\u001b[49m\u001b[43m,\u001b[49m\n\u001b[1;32m   1104\u001b[0m \u001b[43m\u001b[49m\u001b[43m)\u001b[49m\n",
      "File \u001b[0;32m~/anaconda3/envs/sklearn-env/lib/python3.12/site-packages/openai/_base_client.py:1064\u001b[0m, in \u001b[0;36mSyncAPIClient._request\u001b[0;34m(self, cast_to, options, retries_taken, stream, stream_cls)\u001b[0m\n\u001b[1;32m   1061\u001b[0m         err\u001b[38;5;241m.\u001b[39mresponse\u001b[38;5;241m.\u001b[39mread()\n\u001b[1;32m   1063\u001b[0m     log\u001b[38;5;241m.\u001b[39mdebug(\u001b[38;5;124m\"\u001b[39m\u001b[38;5;124mRe-raising status error\u001b[39m\u001b[38;5;124m\"\u001b[39m)\n\u001b[0;32m-> 1064\u001b[0m     \u001b[38;5;28;01mraise\u001b[39;00m \u001b[38;5;28mself\u001b[39m\u001b[38;5;241m.\u001b[39m_make_status_error_from_response(err\u001b[38;5;241m.\u001b[39mresponse) \u001b[38;5;28;01mfrom\u001b[39;00m \u001b[38;5;28;01mNone\u001b[39;00m\n\u001b[1;32m   1066\u001b[0m \u001b[38;5;28;01mreturn\u001b[39;00m \u001b[38;5;28mself\u001b[39m\u001b[38;5;241m.\u001b[39m_process_response(\n\u001b[1;32m   1067\u001b[0m     cast_to\u001b[38;5;241m=\u001b[39mcast_to,\n\u001b[1;32m   1068\u001b[0m     options\u001b[38;5;241m=\u001b[39moptions,\n\u001b[0;32m   (...)\u001b[0m\n\u001b[1;32m   1072\u001b[0m     retries_taken\u001b[38;5;241m=\u001b[39mretries_taken,\n\u001b[1;32m   1073\u001b[0m )\n",
      "\u001b[0;31mInternalServerError\u001b[0m: Internal Server Error"
     ]
    }
   ],
   "source": []
  },
  {
   "cell_type": "code",
   "execution_count": 7,
   "metadata": {},
   "outputs": [
    {
     "data": {
      "text/plain": [
       "'/Users/vedan/New_Desktop/llm based systems/schedule-optimizer/backend/src/calendar_api'"
      ]
     },
     "execution_count": 7,
     "metadata": {},
     "output_type": "execute_result"
    }
   ],
   "source": [
    "os.getcwd()"
   ]
  },
  {
   "cell_type": "code",
   "execution_count": 12,
   "metadata": {},
   "outputs": [
    {
     "data": {
      "text/plain": [
       "'/Users/vedan/New_Desktop/llm based systems/schedule-optimizer/backend/src/calendar_api'"
      ]
     },
     "execution_count": 12,
     "metadata": {},
     "output_type": "execute_result"
    }
   ],
   "source": [
    "os.chdir('/Users/vedan/New_Desktop/llm based systems/schedule-optimizer/backend/src/calendar_api'\n",
    ")\n",
    "os.getcwd()"
   ]
  },
  {
   "cell_type": "code",
   "execution_count": 13,
   "metadata": {},
   "outputs": [
    {
     "data": {
      "text/plain": [
       "'/Users/vedan/New_Desktop/llm based systems/schedule-optimizer/backend/src'"
      ]
     },
     "execution_count": 13,
     "metadata": {},
     "output_type": "execute_result"
    }
   ],
   "source": [
    "os.chdir('../')\n",
    "os.getcwd()"
   ]
  },
  {
   "cell_type": "code",
   "execution_count": 14,
   "metadata": {},
   "outputs": [
    {
     "data": {
      "text/plain": [
       "'/Users/vedan/New_Desktop/llm based systems/schedule-optimizer/backend'"
      ]
     },
     "execution_count": 14,
     "metadata": {},
     "output_type": "execute_result"
    }
   ],
   "source": [
    "os.chdir('../')\n",
    "os.getcwd()"
   ]
  },
  {
   "cell_type": "code",
   "execution_count": 22,
   "metadata": {},
   "outputs": [],
   "source": [
    "os.listdir()\n",
    "os.chdir('bench_data')\n",
    "# os.chdir('/data')"
   ]
  },
  {
   "cell_type": "code",
   "execution_count": 26,
   "metadata": {},
   "outputs": [
    {
     "data": {
      "text/plain": [
       "'/Users/vedan/New_Desktop/llm based systems/schedule-optimizer/backend/src/calendar_api'"
      ]
     },
     "execution_count": 26,
     "metadata": {},
     "output_type": "execute_result"
    }
   ],
   "source": [
    "os.chdir('/Users/vedan/New_Desktop/llm based systems/schedule-optimizer/backend/src/calendar_api')\n",
    "os.getcwd()"
   ]
  },
  {
   "cell_type": "code",
   "execution_count": 25,
   "metadata": {},
   "outputs": [
    {
     "data": {
      "text/plain": [
       "'/Users/vedan/New_Desktop/llm based systems/schedule-optimizer/backend/bench_data'"
      ]
     },
     "execution_count": 25,
     "metadata": {},
     "output_type": "execute_result"
    }
   ],
   "source": [
    "os.chdir('../../bench_data')\n",
    "os.getcwd()"
   ]
  },
  {
   "cell_type": "code",
   "execution_count": 37,
   "metadata": {},
   "outputs": [],
   "source": [
    "with open('../../bench_data/rules_train.json', 'r') as file:\n",
    "  benchmark = json.load(file)"
   ]
  },
  {
   "cell_type": "code",
   "execution_count": 29,
   "metadata": {},
   "outputs": [],
   "source": [
    "SYSTEM_PROMPT = \"\"\"\n",
    "I want you to become my Expert Prompt Creator. Only answer with a list of rules and preferences about \n",
    "a calendar schedule from the Google Calendar API.\n",
    "\n",
    "These responses will be used to have a better understanding of patterns within a users schedule.\n",
    "The purpose is to prompt make suggestions for when new event requests are made\n",
    "Longer calendar schedules should have more rules and suggests.\n",
    "\n",
    "Your response will be in the following format:\n",
    "\n",
    "\"\n",
    "Rules:\n",
    "1. Meetings should not overlap.\n",
    "2. Breaks of at least 15 minutes should be scheduled between meetings longer than 1 hour.\n",
    "3. Work hours are from 9:00 AM to 6:00 PM.\n",
    "4. No meetings should be scheduled before 10:00 AM on Mondays.\n",
    "5. Lunch breaks should be scheduled between 12:00 PM and 1:30 PM.\n",
    "6. Recurring meetings should follow a consistent pattern (e.g., every Monday at 3:00 PM).\n",
    "7. Personal time should be blocked out to avoid conflicts with work.\n",
    "\n",
    "Exceptions:\n",
    "1. Fridays are remote. More flexibility for events.\n",
    "2. Morning meetings are prefered on Fridays.\n",
    "3. Exceptions are okay for important events, personal or professional.\n",
    "\"\n",
    "\n",
    "\"\"\"\n",
    "\n",
    "with open('../events/events_1.json', 'r') as file:\n",
    "    EVENTS_1 = json.load(file)\n",
    "\n",
    "with open('../events/events_2.json', 'r') as file:\n",
    "    EVENTS_2 = json.load(file)\n",
    "\n",
    "with open('../events/events_3.json', 'r') as file:\n",
    "    EVENTS_3 = json.load(file)\n",
    "\n",
    "with open('../events/events_4.json', 'r') as file:\n",
    "    EVENTS_4 = json.load(file)\n",
    "\n",
    "EVENTS_1_RULES = \"\"\"\n",
    "Rules:\n",
    "1. Classes should be back to back and in the mornings.\n",
    "2. Lunch time should be set aside for breaks and socialization.\n",
    "3. Meetings should be in the evenings.\n",
    "4. Social events and hangouts are usually reserved for the weekends.\n",
    "\n",
    "Suggestions:\n",
    "1. Gym workouts can be skipped if there is an important meeting or deadline.\n",
    "\"\"\"\n",
    "\n",
    "EVENTS_2_RULES = \"\"\"\n",
    "Rules:\n",
    "1. Classes should have gaps for break.\n",
    "2. Fridays should be class-free for socializing.\n",
    "\n",
    "Suggestions:\n",
    "\"\"\"\n",
    "\n",
    "EVENTS_3_RULES = \"\"\"\n",
    "Rules:\n",
    "1. Mornings are never free because of stand ups.\n",
    "2. Typical 9-5 schedule so the day is mainly reserved for work.\n",
    "3. Schedule accomodates time for hobbies like sewing and thrifting.\n",
    "\n",
    "Suggestions:\n",
    "1. Consider having more social events and hangouts since\n",
    "employees do not have homework.\n",
    "\"\"\"\n",
    "\n",
    "USER_PREFIX = \"Parse this calendar: \"\n",
    "\n",
    "PROMPT_PREFIX = [\n",
    "    { \"role\": \"system\", \"content\": SYSTEM_PROMPT },\n",
    "    # Example 1\n",
    "    { \"role\": \"user\", \"content\": USER_PREFIX + json.dumps(EVENTS_1)},\n",
    "    { \"role\": \"assistant\", \"content\": EVENTS_1_RULES },\n",
    "\n",
    "    # Example 2\n",
    "    { \"role\": \"user\", \"content\": USER_PREFIX + json.dumps(EVENTS_2)},\n",
    "    { \"role\": \"assistant\", \"content\": EVENTS_2_RULES },\n",
    "\n",
    "    # Examples 3\n",
    "    { \"role\": \"user\", \"content\": USER_PREFIX + json.dumps(EVENTS_3)},\n",
    "    { \"role\": \"assistant\", \"content\": EVENTS_3_RULES }\n",
    "]"
   ]
  },
  {
   "cell_type": "code",
   "execution_count": 30,
   "metadata": {},
   "outputs": [],
   "source": [
    "def rules_agent(user_query):\n",
    "    messages = PROMPT_PREFIX + [{\"role\": \"user\", \"content\": user_query}]\n",
    "    resp = client.chat.completions.create(\n",
    "        model = MODEL,\n",
    "        messages=messages,\n",
    "        temperature=0.2\n",
    "    ).choices[0].message.content\n",
    "    messages.append({\"role\": \"assistant\", \"content\": resp})\n",
    "    print(resp)\n",
    "    return resp"
   ]
  },
  {
   "cell_type": "code",
   "execution_count": 32,
   "metadata": {},
   "outputs": [
    {
     "data": {
      "text/plain": [
       "dict_keys(['calendars'])"
      ]
     },
     "execution_count": 32,
     "metadata": {},
     "output_type": "execute_result"
    }
   ],
   "source": [
    "benchmark.keys()"
   ]
  },
  {
   "cell_type": "code",
   "execution_count": 43,
   "metadata": {},
   "outputs": [
    {
     "name": "stdout",
     "output_type": "stream",
     "text": [
      "\n",
      "Rules:\n",
      "1. Classes should not overlap and should have breaks in between.\n",
      "2. Lunch breaks should be scheduled between 12:00 PM and 1:30 PM.\n",
      "3. Evening meetings should start after 6:00 PM.\n",
      "4. Social events are encouraged on weekends.\n",
      "\n",
      "Suggestions:\n",
      "1. Consider scheduling gym workouts earlier in the day if possible.\n",
      "2. Ensure that personal time is allocated to avoid conflicts with academic and social commitments.\n",
      "*******************\n",
      "\n",
      "Rules:\n",
      "1. Classes should be scheduled back-to-back with minimal breaks.\n",
      "2. Lunch breaks should be at least 1 hour long after morning classes.\n",
      "3. Labs should follow immediately after lectures for continuity.\n",
      "\n",
      "Suggestions:\n",
      "1. Consider scheduling study sessions or group work after lunch to reinforce learning.\n",
      "2. Ensure that there is time for relaxation or socializing after a busy morning.\n",
      "*******************\n",
      "\n",
      "Rules:\n",
      "1. Classes should have breaks scheduled in between for relaxation.\n",
      "2. Lunch breaks should be taken after morning classes.\n",
      "3. Team meetings should be scheduled in the afternoon to allow for focused work in the morning.\n",
      "4. Evening workouts are encouraged to maintain a healthy lifestyle.\n",
      "5. Social events like brunch and movie nights are reserved for Fridays and weekends.\n",
      "\n",
      "Suggestions:\n",
      "1. Consider adding more social activities during the week to balance academic and personal time.\n",
      "2. Ensure that there is enough time for rest after evening activities before the next day’s classes.\n",
      "*******************\n",
      "\n",
      "Rules:\n",
      "1. Classes should be scheduled in the morning with breaks in between.\n",
      "2. Lunch breaks should be at least 1 hour long.\n",
      "3. Team meetings should be scheduled in the late afternoon.\n",
      "4. Evening workouts should not conflict with social events.\n",
      "\n",
      "Suggestions:\n",
      "1. Consider scheduling more social activities on weekends to balance academic and personal time.\n",
      "2. Ensure that there is adequate time for relaxation after classes and before evening activities.\n",
      "*******************\n",
      "\n",
      "Rules:\n",
      "1. Classes are scheduled in the mornings and early afternoons.\n",
      "2. Workdays are structured with a mix of in-office and remote work.\n",
      "3. Weekends are reserved for social activities and personal time.\n",
      "4. Evening workouts are prioritized on weekdays.\n",
      "\n",
      "Suggestions:\n",
      "1. Ensure to schedule downtime after classes and work to avoid burnout.\n",
      "2. Consider adding more social events on weekends to balance academic and personal life.\n",
      "*******************\n",
      "\n",
      "Rules:\n",
      "1. Classes should have a structured schedule with no overlapping.\n",
      "2. Breaks should be scheduled after lab sessions for rest and reflection.\n",
      "3. Lunch should be taken after morning classes to recharge.\n",
      "\n",
      "Suggestions:\n",
      "1. Consider adding study sessions or group discussions after lunch to reinforce learning.\n",
      "2. Ensure that there is adequate time for commuting between classes and lunch.\n",
      "*******************\n",
      "\n",
      "Rules:\n",
      "1. Morning fitness activities are prioritized before work.\n",
      "2. Daily standup meetings are scheduled at 9:00 AM.\n",
      "3. Focus time is reserved for uninterrupted work without meetings.\n",
      "\n",
      "Suggestions:\n",
      "1. Consider scheduling additional breaks after focus time to recharge.\n",
      "2. Ensure that any new meetings do not conflict with the established focus time.\n",
      "*******************\n",
      "\n",
      "Rules:\n",
      "1. Client calls should be scheduled before lunch to allow for follow-up actions.\n",
      "2. Lunch breaks should be at least 1 hour long for relaxation.\n",
      "3. Focused work sessions should start after lunch to maximize productivity.\n",
      "\n",
      "Suggestions:\n",
      "1. Consider scheduling additional breaks after long work sessions to maintain energy levels.\n",
      "2. If possible, try to schedule client calls earlier in the week for better preparation.\n",
      "*******************\n",
      "\n",
      "Rules:\n",
      "1. Classes should start no earlier than 10:00 AM.\n",
      "2. Study blocks should be scheduled after classes for effective review.\n",
      "3. Group study sessions should follow individual study time for collaborative learning.\n",
      "\n",
      "Suggestions:\n",
      "1. Consider scheduling breaks between study sessions to avoid burnout.\n",
      "2. Ensure that study sessions are consistent leading up to quizzes or exams.\n",
      "*******************\n",
      "\n",
      "Rules:\n",
      "1. Mornings are reserved for self-care activities like meditation and coaching.\n",
      "2. Creative classes are scheduled in the late morning to allow for a relaxed start to the day.\n",
      "3. Ensure there is adequate time for transitions between activities.\n",
      "\n",
      "Suggestions:\n",
      "1. Consider adding more creative or wellness activities to balance work and personal growth.\n",
      "2. Afternoon slots can be utilized for additional classes or personal projects.\n",
      "*******************\n",
      "\n",
      "Rules:\n",
      "1. Mornings are reserved for yoga and meetings.\n",
      "2. Work hours are primarily from 9:00 AM to 4:30 PM on weekdays.\n",
      "3. Evening classes are scheduled twice a week.\n",
      "4. Weekends are reserved for family and personal activities.\n",
      "\n",
      "Suggestions:\n",
      "1. Consider scheduling additional social events on weekends to balance work and personal life.\n",
      "2. Ensure breaks are included between meetings and classes to maintain productivity.\n",
      "*******************\n",
      "\n",
      "Rules:\n",
      "1. Classes should be scheduled in the morning to maximize student engagement.\n",
      "2. Office hours should be available multiple days a week for student support.\n",
      "3. Faculty meetings are set for Tuesdays to ensure weekly planning.\n",
      "4. After-school activities should not overlap with grading and planning time.\n",
      "5. Weekends are reserved for community involvement and personal errands.\n",
      "\n",
      "Suggestions:\n",
      "1. Consider adding more social or community events on weekends to balance work and personal life.\n",
      "2. Ensure adequate breaks between teaching and after-school commitments to avoid burnout.\n",
      "*******************\n",
      "\n",
      "Rules:\n",
      "1. Morning rounds and clinic hours are prioritized for patient care.\n",
      "2. Surgical procedures are scheduled mid-week to allow for recovery and follow-ups.\n",
      "3. Fridays are reserved for research and professional development.\n",
      "4. Weekends are dedicated to personal time and family activities.\n",
      "\n",
      "Suggestions:\n",
      "1. Ensure to schedule breaks between patient appointments to avoid burnout.\n",
      "2. Consider adjusting on-call shifts to avoid conflicts with family time.\n",
      "*******************\n",
      "\n",
      "Rules:\n",
      "1. Daily meditation is prioritized for mental well-being.\n",
      "2. Content creation and editing are scheduled in blocks to maximize productivity.\n",
      "3. Social media management is integrated into the weekly routine.\n",
      "4. Weekly yoga classes are essential for physical health.\n",
      "5. Networking events are scheduled monthly for professional growth.\n",
      "6. Weekends are reserved for content consumption and personal time.\n",
      "\n",
      "Suggestions:\n",
      "1. Consider adding more networking opportunities if time allows.\n",
      "2. Ensure breaks are taken between long work sessions to maintain focus.\n",
      "*******************\n",
      "\n",
      "Rules:\n",
      "1. Work hours are from 9:00 AM to 6:00 PM on weekdays.\n",
      "2. Daily standup meetings are scheduled at noon.\n",
      "3. Lunch breaks should be taken after the standup.\n",
      "4. Focused work blocks should be uninterrupted and scheduled in the afternoon.\n",
      "5. Weekly meetings should not overlap with coding blocks.\n",
      "6. Professional development activities are scheduled for Fridays.\n",
      "7. Weekend projects are reserved for personal coding time.\n",
      "\n",
      "Suggestions:\n",
      "1. Consider scheduling social or networking events on weekends or after work hours.\n",
      "2. Ensure to leave time for breaks between meetings and coding sessions to avoid burnout.\n",
      "*******************\n",
      "\n",
      "Rules:\n",
      "1. Daily writing practice is prioritized in the morning.\n",
      "2. Weekly meetings and workshops are scheduled on specific days.\n",
      "3. Creative work should be balanced with social activities and personal time.\n",
      "4. Weekends are reserved for inspiration and relaxation activities.\n",
      "\n",
      "Suggestions:\n",
      "1. Ensure to allocate time for breaks between writing sessions and meetings.\n",
      "2. Consider scheduling additional social events or networking opportunities around the author conference for better engagement.\n",
      "*******************\n",
      "\n",
      "Rules:\n",
      "1. Classes should be scheduled in the morning to maximize productivity.\n",
      "2. Study groups should be held after classes for collaborative learning.\n",
      "3. Evening workouts are encouraged to maintain a healthy lifestyle.\n",
      "\n",
      "Suggestions:\n",
      "1. Consider scheduling a lunch break between the physics lecture and the study group to recharge.\n",
      "2. If possible, add social activities or downtime after gym sessions for relaxation.\n",
      "*******************\n",
      "\n",
      "Rules:\n",
      "1. Daily standup meetings are scheduled in the morning.\n",
      "2. Focus time is prioritized for uninterrupted work.\n",
      "3. Lunch breaks are set for one hour to recharge.\n",
      "4. Client meetings are scheduled in the afternoon.\n",
      "\n",
      "Suggestions:\n",
      "1. Consider adding a short break after focus time to refresh before lunch.\n",
      "2. If possible, schedule additional client meetings earlier in the week to free up time for project work later.\n",
      "*******************\n",
      "\n",
      "Rules:\n",
      "1. Mornings start with breakfast and planning.\n",
      "2. Creative writing sessions are prioritized in the morning.\n",
      "3. Afternoon activities should include exercise and leisure reading.\n",
      "4. Breaks should be taken between focused work sessions.\n",
      "\n",
      "Suggestions:\n",
      "1. Consider adding more social activities or collaborative writing sessions to enhance creativity.\n",
      "2. Ensure to schedule downtime for relaxation and reflection after writing sessions.\n",
      "*******************\n",
      "\n",
      "Rules:\n",
      "1. Classes should be scheduled in the morning and early afternoon.\n",
      "2. Lunch breaks should be taken immediately after classes to allow for socialization.\n",
      "3. Research time should be allocated in the afternoon after lunch.\n",
      "\n",
      "Suggestions:\n",
      "1. Consider scheduling study sessions or group work after library research to reinforce learning.\n",
      "2. Ensure there are no overlapping commitments during class times.\n",
      "*******************\n",
      "\n",
      "Rules:\n",
      "1. Mornings are reserved for meditation and work.\n",
      "2. Lunch breaks should be scheduled to recharge.\n",
      "3. Evenings are for hobbies and socializing.\n",
      "\n",
      "Suggestions:\n",
      "1. Consider adding more social events on weekends to enhance work-life balance.\n",
      "2. Ensure that hobby time does not conflict with work hours.\n",
      "*******************\n"
     ]
    }
   ],
   "source": [
    "for item in benchmark['calendars']:\n",
    "    agent = rules_agent(json.dumps(item['input']['events']))\n",
    "    print('*******************')"
   ]
  },
  {
   "cell_type": "code",
   "execution_count": 45,
   "metadata": {},
   "outputs": [
    {
     "name": "stderr",
     "output_type": "stream",
     "text": [
      "/Users/vedan/anaconda3/envs/sklearn-env/lib/python3.12/site-packages/tqdm/auto.py:21: TqdmWarning: IProgress not found. Please update jupyter and ipywidgets. See https://ipywidgets.readthedocs.io/en/stable/user_install.html\n",
      "  from .autonotebook import tqdm as notebook_tqdm\n"
     ]
    }
   ],
   "source": [
    "from sentence_transformers import SentenceTransformer"
   ]
  },
  {
   "cell_type": "code",
   "execution_count": 53,
   "metadata": {},
   "outputs": [],
   "source": [
    "model = SentenceTransformer('all-MiniLM-L6-v2')\n",
    "text = [\"\"\"      \n",
    "Rules:\n",
    "1. Meetings should not overlap.\n",
    "2. Breaks of at least 15 minutes should be scheduled between meetings longer than 1 hour.\n",
    "3. Work hours are from 9:00 AM to 6:00 PM.\n",
    "4. No meetings should be scheduled before 10:00 AM on Mondays.\n",
    "5. Lunch breaks should be scheduled between 12:00 PM and 1:30 PM.\n",
    "6. Recurring meetings should follow a consistent pattern (e.g., every Monday at 3:00 PM).\n",
    "7. Personal time should be blocked out to avoid conflicts with work.\n",
    "\n",
    "Exceptions:\n",
    "1. Fridays are remote. More flexibility for events.\n",
    "2. Morning meetings are prefered on Fridays.\n",
    "3. Exceptions are okay for important events, personal or professional.\n",
    "        \"\"\"]"
   ]
  },
  {
   "cell_type": "code",
   "execution_count": 54,
   "metadata": {},
   "outputs": [],
   "source": [
    "embeddings = model.encode(text)\n"
   ]
  },
  {
   "cell_type": "code",
   "execution_count": 55,
   "metadata": {},
   "outputs": [
    {
     "name": "stdout",
     "output_type": "stream",
     "text": [
      "(1, 384)\n"
     ]
    }
   ],
   "source": [
    "print(embeddings.shape)"
   ]
  }
 ],
 "metadata": {
  "kernelspec": {
   "display_name": "sklearn-env",
   "language": "python",
   "name": "python3"
  },
  "language_info": {
   "codemirror_mode": {
    "name": "ipython",
    "version": 3
   },
   "file_extension": ".py",
   "mimetype": "text/x-python",
   "name": "python",
   "nbconvert_exporter": "python",
   "pygments_lexer": "ipython3",
   "version": "3.12.2"
  }
 },
 "nbformat": 4,
 "nbformat_minor": 2
}
